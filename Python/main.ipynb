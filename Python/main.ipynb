{
 "cells": [
  {
   "cell_type": "markdown",
   "metadata": {},
   "source": [
    "## Importing packages"
   ]
  },
  {
   "cell_type": "code",
   "execution_count": 1,
   "metadata": {},
   "outputs": [],
   "source": [
    "import os\n",
    "import pickle\n",
    "import numpy as np\n",
    "import matplotlib.pyplot as plt\n",
    "\n",
    "import utils # User-defined\n",
    "import PTS_functions as ptsf # User-defined"
   ]
  },
  {
   "cell_type": "markdown",
   "metadata": {},
   "source": [
    "## Path to code and PDs"
   ]
  },
  {
   "cell_type": "code",
   "execution_count": 2,
   "metadata": {},
   "outputs": [],
   "source": [
    "code_path = os.getcwd()\n",
    "pd_path = code_path + '/Datasets'\n",
    "pd_files = ['Persistence_Diagrams_SHREC10_SIHKS.pckl']"
   ]
  },
  {
   "cell_type": "markdown",
   "metadata": {},
   "source": [
    "## Parameter initialization"
   ]
  },
  {
   "cell_type": "code",
   "execution_count": 3,
   "metadata": {},
   "outputs": [],
   "source": [
    "param = utils.DoDict()\n",
    "# Number of random perturbations\n",
    "param.m = 40\n",
    "# Maximum allowable displacement of points in PD\n",
    "param.max_displacement = 0.05\n",
    "# Grid size of 2D PDF\n",
    "param.x1 = 50\n",
    "param.x2 = 50\n",
    "# Standard deviation of Gaussian kernel function for KDE\n",
    "param.sigma = 0.04\n",
    "# Subspace dimension of PTS Grassmannian representations\n",
    "param.subspace_dimension = 10"
   ]
  },
  {
   "cell_type": "markdown",
   "metadata": {},
   "source": [
    "## Extracting PTS features"
   ]
  },
  {
   "cell_type": "code",
   "execution_count": 4,
   "metadata": {},
   "outputs": [
    {
     "name": "stdout",
     "output_type": "stream",
     "text": [
      "\n",
      "\n",
      "********** Extracting SIHKS PTS Features **********\n",
      "\n",
      "\n",
      "# # # # # # # # # # # # # # # # # # # # # # # # # "
     ]
    }
   ],
   "source": [
    "for z in range(len(pd_files)):    \n",
    "    # Loading PDs\n",
    "    f = open(pd_path + '/' + pd_files[z],'rb')\n",
    "    PDs = pickle.load(f)\n",
    "    f.close()\n",
    "    \n",
    "    pds_per_shape = len(PDs[0][2])\n",
    "    temp = pd_files[z].split('_')\n",
    "    descriptor = temp[3][0:-5]\n",
    "    \n",
    "    print('\\n\\n********** Extracting '+descriptor+' PTS Features **********\\n\\n')\n",
    "    \n",
    "    save_folder_name = 'PTS_' + descriptor\n",
    "    save_path = code_path + '/' + save_folder_name\n",
    "    if not os.path.exists(save_path):\n",
    "        os.makedirs(save_path)\n",
    "        \n",
    "    # Loop over shapes\n",
    "    for i in range(len(PDs)):\n",
    "        PD = PDs[i][2]\n",
    "        PTS = []\n",
    "        # Loop over PDs in each shape\n",
    "        for j in range(pds_per_shape):\n",
    "            \n",
    "            # Normalizing PD w.r.t. maximum death-time observed in PD\n",
    "            PD_normalized = ptsf.Normalize_PD(PD[j])\n",
    "            \n",
    "            # Creating set of randomly perturbed PDs\n",
    "            Perturbed_PDs = ptsf.Random_perturbation(PD_normalized,param)\n",
    "            \n",
    "            # Creating 2D PDFs using kernel density estimation\n",
    "            PDFs = ptsf.PDFs_from_PDs(Perturbed_PDs,param)\n",
    "            \n",
    "            # Mapping PDFs to a point on the Grassmannian\n",
    "            PTS.append(ptsf.map_to_Grassmannian(PDFs,param))\n",
    "        if not (i+1)%8:\n",
    "            print('#', end =\" \")\n",
    "        \n",
    "        f = open(save_path + '/' + PDs[i][0],'wb')\n",
    "        pickle.dump(PTS,f)\n",
    "        f.close()\n",
    "        \n",
    "    f = open(save_path + '/Parameters.pckl','wb')\n",
    "    pickle.dump(param,f)\n",
    "    f.close()"
   ]
  },
  {
   "cell_type": "markdown",
   "metadata": {},
   "source": [
    "# Computing Distance Matrix"
   ]
  },
  {
   "cell_type": "code",
   "execution_count": 5,
   "metadata": {},
   "outputs": [
    {
     "name": "stdout",
     "output_type": "stream",
     "text": [
      "\n",
      "\n",
      "************ Computing Distance Matrix ************\n",
      "\n",
      "\n",
      "# # # # # # # # # # # # # # # # # # # # # # # # # \n",
      "\n",
      "Average time taken to compare PTS features using Subspace Angles metric = 0.0001\n",
      "\n",
      "\n",
      "Average time taken to compare PTS features using Chordal metric = 0.0001\n"
     ]
    }
   ],
   "source": [
    "for z in range(len(pd_files)):\n",
    "    # Loading PDs\n",
    "    f = open(pd_path + '/' + pd_files[z],'rb')\n",
    "    PDs = pickle.load(f)\n",
    "    f.close()\n",
    "    \n",
    "    total_shapes = len(PDs)\n",
    "    pts_per_shape = len(PDs[0][2])\n",
    "    temp = pd_files[z].split('_')\n",
    "    descriptor = temp[3][0:-5]\n",
    "    \n",
    "    distmat1 = np.zeros((total_shapes,total_shapes))\n",
    "    distmat2 = np.zeros((total_shapes,total_shapes))\n",
    "    time_taken_Chordal = []\n",
    "    time_taken_SubspaceAngle = []\n",
    "    \n",
    "    save_folder_name = 'PTS_' + descriptor\n",
    "    save_path = code_path + '/' + save_folder_name\n",
    "    \n",
    "    print('\\n\\n************ Computing Distance Matrix ************\\n\\n')\n",
    "    \n",
    "    for i in range(total_shapes):\n",
    "        f = open(save_path + '/' + PDs[i][0],'rb')\n",
    "        pts1 = pickle.load(f)\n",
    "        f.close()\n",
    "        for j in range(i,total_shapes):    \n",
    "            f = open(save_path + '/' + PDs[j][0],'rb')\n",
    "            pts2 = pickle.load(f)\n",
    "            f.close()\n",
    "            for k in range(len(pts1)):\n",
    "                utils.tic()\n",
    "                distmat1[i,j] = distmat1[i,j] + utils.subspace_angle(pts1[k],pts2[k])\n",
    "                time_taken_SubspaceAngle.append(utils.toc())\n",
    "                utils.tic()\n",
    "                distmat2[i,j] = distmat2[i,j] + utils.distChordalGrass(pts1[k],pts2[k])\n",
    "                time_taken_Chordal.append(utils.toc())\n",
    "        if not (i+1)%8:\n",
    "            print('#', end =\" \")\n",
    "    distmat = distmat1+distmat1.T\n",
    "    f = open(code_path + '/distmat_SubspaceAngle_' + descriptor + '.pckl','wb')\n",
    "    pickle.dump(distmat,f)\n",
    "    f.close()\n",
    "    \n",
    "    time_taken_SubspaceAngle = time_taken_SubspaceAngle[0:3000]\n",
    "    f = open(code_path + '/time_taken_SubspaceAngle_' + descriptor + '.pckl','wb')\n",
    "    pickle.dump(time_taken_SubspaceAngle,f)\n",
    "    f.close()\n",
    "    print('\\n\\nAverage time taken to compare PTS features using Subspace Angles metric = '+str(np.round(np.mean(time_taken_SubspaceAngle),4)))\n",
    "    \n",
    "    distmat = distmat2+distmat2.T\n",
    "    f = open(code_path + '/distmat_Chordal_' + descriptor + '.pckl','wb')\n",
    "    pickle.dump(distmat,f)\n",
    "    f.close()\n",
    "    \n",
    "    time_taken_Chordal = time_taken_Chordal[0:3000]\n",
    "    f = open(code_path + '/time_taken_Chordal_' + descriptor + '.pckl','wb')\n",
    "    pickle.dump(time_taken_Chordal,f)\n",
    "    f.close()\n",
    "    print('\\n\\nAverage time taken to compare PTS features using Chordal metric = '+str(np.round(np.mean(time_taken_Chordal),4)))"
   ]
  },
  {
   "cell_type": "markdown",
   "metadata": {},
   "source": [
    "# 1-Nearest Neighbor Classification"
   ]
  },
  {
   "cell_type": "code",
   "execution_count": 6,
   "metadata": {},
   "outputs": [
    {
     "name": "stdout",
     "output_type": "stream",
     "text": [
      "1-NN Classification Accuracy using Chordal metric =  96.5\n",
      "1-NN Classification Accuracy using Subspace Angle metric =  94.0\n"
     ]
    }
   ],
   "source": [
    "# Loading PDs\n",
    "f = open(pd_path + '/' + pd_files[0],'rb')\n",
    "PDs = pickle.load(f)\n",
    "f.close()\n",
    "\n",
    "labels = []\n",
    "for i in range(len(PDs)):\n",
    "    labels.append(PDs[i][1])\n",
    "\n",
    "f = open(code_path + '/distmat_Chordal_SIHKS.pckl','rb')\n",
    "distmat = pickle.load(f)\n",
    "f.close()\n",
    "accuracy = utils.NearestNeighbor(distmat,labels)\n",
    "print('1-NN Classification Accuracy using Chordal metric = ',str(accuracy))\n",
    "\n",
    "f = open(code_path + '/distmat_SubspaceAngle_SIHKS.pckl','rb')\n",
    "distmat = pickle.load(f)\n",
    "f.close()\n",
    "accuracy = utils.NearestNeighbor(distmat,labels)\n",
    "print('1-NN Classification Accuracy using Subspace Angle metric = ',str(accuracy))"
   ]
  }
 ],
 "metadata": {
  "kernelspec": {
   "display_name": "Python 3",
   "language": "python",
   "name": "python3"
  },
  "language_info": {
   "codemirror_mode": {
    "name": "ipython",
    "version": 3
   },
   "file_extension": ".py",
   "mimetype": "text/x-python",
   "name": "python",
   "nbconvert_exporter": "python",
   "pygments_lexer": "ipython3",
   "version": "3.6.5"
  }
 },
 "nbformat": 4,
 "nbformat_minor": 2
}
